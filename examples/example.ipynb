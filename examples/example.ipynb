{
 "cells": [
  {
   "cell_type": "markdown",
   "metadata": {},
   "source": [
    "This IPYNB file was generated automatically by MOA GUI.<br>\n",
    "Task name: moa.tasks.EvaluatePrequentialCV<br>\n",
    "## Libraries importing\n"
   ]
  },
  {
   "cell_type": "code",
   "execution_count": null,
   "metadata": {},
   "outputs": [],
   "source": [
    "%maven nz.ac.waikato.cms.moa:moa:2019.05.0\n",
    "%classpath \"H:/MOA/moa-flow-core.jar\"\n",
    "import moaflow.transformer.*;\n",
    "import moaflow.core.Utils;\n",
    "import moaflow.sink.*;\n",
    "import moaflow.sink.Console;\n",
    "import moaflow.source.*;\n"
   ]
  },
  {
   "cell_type": "markdown",
   "metadata": {},
   "source": [
    "## Configuring learner, stream and evaluator\n"
   ]
  },
  {
   "cell_type": "code",
   "execution_count": null,
   "metadata": {},
   "outputs": [],
   "source": [
    "String learnerString = \"meta.AdaptiveRandomForest -l (ARFHoeffdingTree -e 2000000 -g 75 -s GiniSplitCriterion -c 0.01 -l MC) -o (Percentage (M * (m / 100))) -m 80\";\n",
    "String streamString = \"generators.RandomTreeGenerator\";\n",
    "String evaluatorString = \"BasicClassificationPerformanceEvaluator\";\n"
   ]
  },
  {
   "cell_type": "markdown",
   "metadata": {},
   "source": [
    "## Testing & training, exporting result\n"
   ]
  },
  {
   "cell_type": "code",
   "execution_count": null,
   "metadata": {},
   "outputs": [],
   "source": [
    "InstanceSource source;\n",
    "source = new InstanceSource();\n",
    "source.setGenerator(streamString);;\n",
    "source.numInstances.setValue(100000);\n",
    "\n",
    "EvaluateClassifier eval = new EvaluateClassifier();\n",
    "eval.setClassifier(learnerString);\n",
    "eval.setEvaluationScheme(\"Prequential\");\n",
    "eval.setEvaluator(evaluatorString);\n",
    "eval.everyNth.setValue(10000);\n",
    "source.subscribe(eval);\n",
    "\n",
    "MeasurementTableSawPlot plot = new MeasurementTableSawPlot();\n",
    "plot.measurement.setValue(\"Kappa Statistic (percent)\");\n",
    "plot.maxPoints.setValue(-1);\n",
    "eval.subscribe(plot);\n",
    "\n",
    "/**    \n",
    "Console console = new Console();\n",
    "console.outputSeparator.setValue(\"------\");\n",
    "eval.subscribe(console);**/\n",
    "\n",
    "OutputLearningCurve curve = new OutputLearningCurve();\n",
    "eval.subscribe(curve);\n",
    "\n",
    "System.out.println(Utils.toTree(source));\n",
    "\n",
    "source.start();\n"
   ]
  },
  {
   "cell_type": "code",
   "execution_count": null,
   "metadata": {},
   "outputs": [],
   "source": []
  }
 ],
 "metadata": {
  "kernelspec": {
   "display_name": "Java",
   "language": "java",
   "name": "java"
  },
  "language_info": {
   "codemirror_mode": "java",
   "file_extension": ".jshell",
   "mimetype": "text/x-java-source",
   "name": "Java",
   "pygments_lexer": "java",
   "version": "12.0.1+12"
  }
 },
 "nbformat": 4,
 "nbformat_minor": 1
}
